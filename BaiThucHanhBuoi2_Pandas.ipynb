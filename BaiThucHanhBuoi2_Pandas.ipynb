{
 "cells": [
  {
   "cell_type": "code",
   "execution_count": 1,
   "id": "83028ba6",
   "metadata": {},
   "outputs": [
    {
     "name": "stdout",
     "output_type": "stream",
     "text": [
      "1.4.2\n"
     ]
    }
   ],
   "source": [
    "import pandas as pd\n",
    "import numpy as np\n",
    "print(pd.__version__)"
   ]
  },
  {
   "cell_type": "code",
   "execution_count": 3,
   "id": "5469d78b",
   "metadata": {},
   "outputs": [
    {
     "name": "stdout",
     "output_type": "stream",
     "text": [
      "Series ban dau:\n",
      " 0    20\n",
      "1    17\n",
      "2    31\n",
      "3    19\n",
      "4    65\n",
      "dtype: int32\n",
      "Gia tri dong thu 2 la: 17\n",
      "Cac gia tri ba dong cuoi cua series la:\n",
      " 2    31\n",
      "3    19\n",
      "4    65\n",
      "dtype: int32\n"
     ]
    }
   ],
   "source": [
    "# Cau 4\n",
    "\n",
    "arr = np.array([20, 17, 31, 19, 65])\n",
    "\n",
    "# Tao series tu vector\n",
    "s4 = pd.Series(arr)\n",
    "print(\"Series ban dau:\\n\", s4)\n",
    "\n",
    "# Them ten cho cac dong cua series\n",
    "\n",
    "# Lay gia tri dong thu 2\n",
    "print(\"Gia tri dong thu 2 la:\", s4[1])\n",
    "\n",
    "# Lay gia tri 3 dong cuoi\n",
    "print(\"Cac gia tri ba dong cuoi cua series la:\\n\", s4.tail(3)) #Ngoai ra cung co the truy xuat bang cach nay: print(s4[-3:])"
   ]
  },
  {
   "cell_type": "code",
   "execution_count": 5,
   "id": "d755464d-d7b7-47fe-b699-14c89cf70977",
   "metadata": {},
   "outputs": [
    {
     "name": "stdout",
     "output_type": "stream",
     "text": [
      "Dataframe da tao la:\n",
      "      0       1   2\n",
      "0  111    Hong  20\n",
      "1  222     Tai  19\n",
      "2  333     Tam  23\n",
      "3  444  Phuong  22\n",
      "4  555     Huy  21\n",
      "Dataframe sau khi them ten dong:\n",
      "        0       1   2\n",
      "SV1  111    Hong  20\n",
      "SV2  222     Tai  19\n",
      "SV3  333     Tam  23\n",
      "SV4  444  Phuong  22\n",
      "SV5  555     Huy  21\n",
      "Dataframe sau khi them ten cpt:\n",
      "      MSSV   HoTen  Tuoi\n",
      "SV1   111    Hong    20\n",
      "SV2   222     Tai    19\n",
      "SV3   333     Tam    23\n",
      "SV4   444  Phuong    22\n",
      "SV5   555     Huy    21\n",
      "Thong tin cua SV2:\n",
      " MSSV     222\n",
      "HoTen    Tai\n",
      "Tuoi      19\n",
      "Name: SV2, dtype: object\n",
      "Dataframe moi la:\n",
      "      MSSV   HoTen\n",
      "SV1   111    Hong\n",
      "SV2   222     Tai\n",
      "SV3   333     Tam\n",
      "SV4   444  Phuong\n",
      "SV5   555     Huy\n"
     ]
    }
   ],
   "source": [
    "# Cau 5\n",
    "\n",
    "# Tao list de luu cac du lieu sau\n",
    "list = [[111, \"Hong\", 20], [222, \"Tai\", 19], [333, \"Tam\", 23], [444, \"Phuong\", 22], [555, \"Huy\", 21]]\n",
    "\n",
    "#Tao dataframe tu list tren\n",
    "df5 = pd.DataFrame(list)\n",
    "print(\"Dataframe da tao la:\\n\", df5)\n",
    "\n",
    "#Them ten dong cho df vua tao\n",
    "new_index = ['SV1', 'SV2', 'SV3', 'SV4', 'SV5']\n",
    "df5.index = new_index\n",
    "print(\"Dataframe sau khi them ten dong:\\n\", df5)\n",
    "\n",
    "# Them ten cot cho df vua tao\n",
    "new_columns = ['MSSV', 'HoTen', 'Tuoi']\n",
    "df5.columns = new_columns\n",
    "print(\"Dataframe sau khi them ten cpt:\\n\", df5)\n",
    "\n",
    "#Hien thi toan bo info cua sv2\n",
    "print(\"Thong tin cua SV2:\\n\", df5.loc['SV2'])\n",
    "\n",
    "#Tao df moi voi hai cot mssv va hoten\n",
    "df5_new = pd.DataFrame(df5, columns=['MSSV', 'HoTen'])\n",
    "print(\"Dataframe moi la:\\n\", df5_new)"
   ]
  },
  {
   "cell_type": "code",
   "execution_count": 6,
   "id": "c5cd3ab1-39c5-4817-90e7-16dc2539c5b7",
   "metadata": {},
   "outputs": [
    {
     "name": "stdout",
     "output_type": "stream",
     "text": [
      "DSSV dang luu:\n",
      "       0               1     2    3\n",
      "0  2301     Ly Thi Hong  2000  HCM\n",
      "1  2302  Nguyen Van Hai  2002   VT\n",
      "2  2401   Le Phuong Anh  2001   DN\n",
      "DSSV sau khi doi ten cot:\n",
      "    MSSV           HoTen  NamSinh DiaChi\n",
      "0  2301     Ly Thi Hong     2000    HCM\n",
      "1  2302  Nguyen Van Hai     2002     VT\n",
      "2  2401   Le Phuong Anh     2001     DN\n",
      "DSSV sau khi them cot gioi tinh:\n",
      "    MSSV           HoTen  NamSinh DiaChi GioiTinh\n",
      "0  2301     Ly Thi Hong     2000    HCM       Nu\n",
      "1  2302  Nguyen Van Hai     2002     VT      Nam\n",
      "2  2401   Le Phuong Anh     2001     DN       Nu\n",
      "DSSV sau khi them:\n",
      "    MSSV           HoTen  NamSinh DiaChi GioiTinh\n",
      "0  2301     Ly Thi Hong     2000    HCM       Nu\n",
      "1  2302  Nguyen Van Hai     2002     VT      Nam\n",
      "2  2401   Le Phuong Anh     2001     DN       Nu\n",
      "3  2306  Nguyen Van Tai     2002     NT      Nam\n",
      "4  2404      Le Van Nam     2001     VT      Nam\n",
      "5  2304  Phan Hong Tham     2001    HCM       Nu\n",
      "DSSV chi chua cac ban nam:\n",
      "    MSSV           HoTen  NamSinh DiaChi GioiTinh\n",
      "1  2302  Nguyen Van Hai     2002     VT      Nam\n",
      "3  2306  Nguyen Van Tai     2002     NT      Nam\n",
      "4  2404      Le Van Nam     2001     VT      Nam\n",
      "DSSV chi chua cac ban nu co dia chi o HCM:\n",
      "    MSSV           HoTen  NamSinh DiaChi GioiTinh\n",
      "0  2301     Ly Thi Hong     2000    HCM       Nu\n",
      "5  2304  Phan Hong Tham     2001    HCM       Nu\n"
     ]
    }
   ],
   "source": [
    "# Cau 6\n",
    "\n",
    "# Dung dict de luu danh sach sinh vien\n",
    "my_dict = {\n",
    "    '0': [2301, 2302, 2401],\n",
    "    '1': ['Ly Thi Hong', 'Nguyen Van Hai', 'Le Phuong Anh'],\n",
    "    '2': [2000, 2002, 2001],\n",
    "    '3': ['HCM', 'VT', 'DN']\n",
    "}\n",
    "\n",
    "# Tao df tu dict\n",
    "df6 = pd.DataFrame(my_dict)\n",
    "print(\"DSSV dang luu:\\n\", df6)\n",
    "\n",
    "# Dat ten cho cac cot\n",
    "columns = ['MSSV', 'HoTen', 'NamSinh', 'DiaChi']\n",
    "df6.columns = columns\n",
    "print(\"DSSV sau khi doi ten cot:\\n\", df6)\n",
    "\n",
    "# Them cot GioiTinh\n",
    "gioiTinh = ['Nu', 'Nam', 'Nu']\n",
    "df6['GioiTinh'] = gioiTinh\n",
    "print(\"DSSV sau khi them cot gioi tinh:\\n\", df6)\n",
    "\n",
    "# Them SV vao danh sach\n",
    "new_data = {\n",
    "    'MSSV': [2306, 2404, 2304],\n",
    "    'HoTen': ['Nguyen Van Tai', 'Le Van Nam', 'Phan Hong Tham'],\n",
    "    'NamSinh': [2002, 2001, 2001],\n",
    "    'DiaChi': ['NT', 'VT', 'HCM'],\n",
    "    'GioiTinh': ['Nam', 'Nam', 'Nu']\n",
    "}\n",
    "\n",
    "df6_new = pd.DataFrame(new_data)\n",
    "df6 = pd.concat([df6, df6_new], ignore_index=True)\n",
    "print(\"DSSV sau khi them:\\n\", df6)\n",
    "\n",
    "# Tao df cac ban co gioi tinh Nam\n",
    "df6_nam = df6.loc[df6['GioiTinh'] == \"Nam\"]\n",
    "print(\"DSSV chi chua cac ban nam:\\n\", df6_nam)\n",
    "\n",
    "# Tao df cac ban nu o hcm\n",
    "df6_nu_hcm = df6.loc[(df6['GioiTinh'] == \"Nu\") & (df6['DiaChi'] == \"HCM\")]\n",
    "print(\"DSSV chi chua cac ban nu co dia chi o HCM:\\n\", df6_nu_hcm)"
   ]
  },
  {
   "cell_type": "code",
   "execution_count": 7,
   "id": "df941cb7-c786-4cfe-8dfc-40d8a9ae036e",
   "metadata": {},
   "outputs": [],
   "source": [
    "# Cau 6: Luu danh sach cac ban nu o hcm vao file .csv\n",
    "\n",
    "df6_nu_hcm.to_csv(\"nu_hcm.csv\", encoding='utf-8', index=False, header=True)"
   ]
  },
  {
   "cell_type": "code",
   "execution_count": 82,
   "id": "889cbea5-e7fb-4ba9-a574-121e2e46ec25",
   "metadata": {},
   "outputs": [
    {
     "name": "stdout",
     "output_type": "stream",
     "text": [
      "Danh sach sinh vien da load:\n",
      "             ID                 Name         BOD Gender  Mark  \\\n",
      "0   16050007.0      Đặng Phương Anh  24/02/1998      F   7.0   \n",
      "1   16051722.0     Đinh Thị Vân Anh  21/11/1998      F   9.0   \n",
      "2   16050014.0           Đỗ Lan Anh         NaN      F   4.0   \n",
      "3   16051723.0        Kiều Ngọc Ánh  06/10/1998      F   6.0   \n",
      "4   16050008.0          Lê Ngọc Ánh  17/02/1998      F   3.0   \n",
      "..         ...                  ...         ...    ...   ...   \n",
      "80  16050174.0   Nguyễn THị Hải Yến  04/03/1998      F   6.0   \n",
      "81  16051814.0  Nguyễn Thị Ngọc Yến  11/11/1998      F   NaN   \n",
      "82  16051802.0    Nguyễn Doãn Trung  25/09/1998      M   5.0   \n",
      "83  16051803.0      Trần Văn Trường  10/02/1997      M   NaN   \n",
      "84  16051804.0      Trần THị Cẩm Tú  13/12/1998      F   NaN   \n",
      "\n",
      "                Class  \n",
      "0      QH-2016-E KTPT  \n",
      "1   QH-2017-E KINH TẾ  \n",
      "2      QH-2017-E KTPT  \n",
      "3      QH-2017-E KTPT  \n",
      "4      QH-2017-E KTPT  \n",
      "..                ...  \n",
      "80     QH-2016-E KTPT  \n",
      "81     QH-2016-E KTPT  \n",
      "82     QH-2016-E KTPT  \n",
      "83     QH-2016-E KTPT  \n",
      "84     QH-2016-E KTPT  \n",
      "\n",
      "[85 rows x 6 columns]\n"
     ]
    }
   ],
   "source": [
    "# Cau 7\n",
    "\n",
    "# Load file\n",
    "df7 = pd.read_csv(\"danhsachSV.csv\", sep=';')\n",
    "\n",
    "print(\"Danh sach sinh vien da load:\\n\", df7)"
   ]
  },
  {
   "cell_type": "code",
   "execution_count": 50,
   "id": "baee9a22-0671-482a-81c8-b141c1f8c756",
   "metadata": {},
   "outputs": [
    {
     "name": "stdout",
     "output_type": "stream",
     "text": [
      "ID        float64\n",
      "Name       object\n",
      "BOD        object\n",
      "Gender     object\n",
      "Mark      float64\n",
      "Class      object\n",
      "dtype: object\n"
     ]
    }
   ],
   "source": [
    "print(df7.dtypes)"
   ]
  },
  {
   "cell_type": "code",
   "execution_count": 83,
   "id": "c662d67a-b09c-4d5f-af15-bad34b65ec9b",
   "metadata": {},
   "outputs": [
    {
     "name": "stdout",
     "output_type": "stream",
     "text": [
      "Danh sach sinh vien da chuan hoa:\n",
      "             ID                 Name         BOD Gender  Mark  \\\n",
      "0   16050007.0      Đặng Phương Anh  24/02/1998      F   7.0   \n",
      "1   16051722.0     Đinh Thị Vân Anh  21/11/1998      F   9.0   \n",
      "2   16050014.0           Đỗ Lan Anh        <NA>      F   4.0   \n",
      "3   16051723.0        Kiều Ngọc Ánh  06/10/1998      F   6.0   \n",
      "4   16050008.0          Lê Ngọc Ánh  17/02/1998      F   3.0   \n",
      "..         ...                  ...         ...    ...   ...   \n",
      "80  16050174.0   Nguyễn THị Hải Yến  04/03/1998      F   6.0   \n",
      "81  16051814.0  Nguyễn Thị Ngọc Yến  11/11/1998      F   NaN   \n",
      "82  16051802.0    Nguyễn Doãn Trung  25/09/1998      M   5.0   \n",
      "83  16051803.0      Trần Văn Trường  10/02/1997      M   NaN   \n",
      "84  16051804.0      Trần THị Cẩm Tú  13/12/1998      F   NaN   \n",
      "\n",
      "                Class  \n",
      "0      QH-2016-E KTPT  \n",
      "1   QH-2017-E KINH TẾ  \n",
      "2      QH-2017-E KTPT  \n",
      "3      QH-2017-E KTPT  \n",
      "4      QH-2017-E KTPT  \n",
      "..                ...  \n",
      "80     QH-2016-E KTPT  \n",
      "81     QH-2016-E KTPT  \n",
      "82     QH-2016-E KTPT  \n",
      "83     QH-2016-E KTPT  \n",
      "84     QH-2016-E KTPT  \n",
      "\n",
      "[83 rows x 6 columns]\n"
     ]
    }
   ],
   "source": [
    "# Chuan hoa\n",
    "#df7 = df7.dropna()\n",
    "#df7['ID'] = df7['ID'].astype(int)\n",
    "\n",
    "cols = [\"Name\", \"BOD\", \"Gender\", \"Class\"]\n",
    "for c in cols:\n",
    "    df7[c] = df7[c].astype('string')\n",
    "    dfnull = df7[df7[c].str.contains('Null')]\n",
    "    df7.drop(dfnull.index, inplace=True)\n",
    "\n",
    "print(\"Danh sach sinh vien da chuan hoa:\\n\", df7)"
   ]
  },
  {
   "cell_type": "code",
   "execution_count": 95,
   "id": "ded5e5e9",
   "metadata": {},
   "outputs": [
    {
     "name": "stdout",
     "output_type": "stream",
     "text": [
      "Danh sach sinh vien da chuan hoa:\n",
      "             MS                  Ten    NgaySinh GT  Diem                Lop\n",
      "0   16050007.0      Đặng Phương Anh  24/02/1998  F   7.0     QH-2016-E KTPT\n",
      "1   16051722.0     Đinh Thị Vân Anh  21/11/1998  F   9.0  QH-2017-E KINH TẾ\n",
      "2   16050014.0           Đỗ Lan Anh        <NA>  F   4.0     QH-2017-E KTPT\n",
      "3   16051723.0        Kiều Ngọc Ánh  06/10/1998  F   6.0     QH-2017-E KTPT\n",
      "4   16050008.0          Lê Ngọc Ánh  17/02/1998  F   3.0     QH-2017-E KTPT\n",
      "..         ...                  ...         ... ..   ...                ...\n",
      "80  16050174.0   Nguyễn THị Hải Yến  04/03/1998  F   6.0     QH-2016-E KTPT\n",
      "81  16051814.0  Nguyễn Thị Ngọc Yến  11/11/1998  F   3.0     QH-2016-E KTPT\n",
      "82  16051802.0    Nguyễn Doãn Trung  25/09/1998  M   5.0     QH-2016-E KTPT\n",
      "83  16051803.0      Trần Văn Trường  10/02/1997  M   3.0     QH-2016-E KTPT\n",
      "84  16051804.0      Trần THị Cẩm Tú  13/12/1998  F   3.0     QH-2016-E KTPT\n",
      "\n",
      "[83 rows x 6 columns]\n"
     ]
    }
   ],
   "source": [
    "print(\"Danh sach sinh vien da chuan hoa:\\n\", df7)"
   ]
  },
  {
   "cell_type": "code",
   "execution_count": 86,
   "id": "236c0648",
   "metadata": {},
   "outputs": [
    {
     "name": "stdout",
     "output_type": "stream",
     "text": [
      "So sinh vien nam:  19\n",
      "So sinh vien nu:  64\n"
     ]
    }
   ],
   "source": [
    "# Dem so luong nam nu\n",
    "\n",
    "sv_nam = len(df7[df7['Gender'] == 'M'])\n",
    "sv_nu = len(df7[df7['Gender'] == 'F'])\n",
    "\n",
    "print(\"So sinh vien nam: \", sv_nam)\n",
    "print(\"So sinh vien nu: \", sv_nu)"
   ]
  },
  {
   "cell_type": "code",
   "execution_count": 87,
   "id": "f6301169",
   "metadata": {},
   "outputs": [
    {
     "name": "stdout",
     "output_type": "stream",
     "text": [
      "Class                Gender\n",
      "QH-2015-E KTPT       F          2\n",
      "QH-2015-E KTPT-LUẬT  F          1\n",
      "QH-2016-E KINHTE     F          4\n",
      "QH-2016-E KTPT       F         25\n",
      "                     M         11\n",
      "QH-2017-E KINH TẾ    F          5\n",
      "                     M          3\n",
      "QH-2017-E KTPT       F         26\n",
      "                     M          5\n",
      "QH-2017-E KẾ TOÁN    F          1\n",
      "Name: Gender, dtype: int64\n"
     ]
    }
   ],
   "source": [
    "# Dem so luong nam nu tung lop\n",
    "\n",
    "group = df7.groupby(['Class', 'Gender'])\n",
    "print(group['Gender'].count())"
   ]
  },
  {
   "cell_type": "code",
   "execution_count": 91,
   "id": "8d21d13c",
   "metadata": {},
   "outputs": [
    {
     "name": "stdout",
     "output_type": "stream",
     "text": [
      "Danh sach sinh vien sau khi doi ten cot:\n",
      "            MS                   Ten    NgaySinh GT  Diem                Lop\n",
      "0  16050007.0       Đặng Phương Anh  24/02/1998  F   7.0     QH-2016-E KTPT\n",
      "1  16051722.0      Đinh Thị Vân Anh  21/11/1998  F   9.0  QH-2017-E KINH TẾ\n",
      "2  16050014.0            Đỗ Lan Anh        <NA>  F   4.0     QH-2017-E KTPT\n",
      "3  16051723.0         Kiều Ngọc Ánh  06/10/1998  F   6.0     QH-2017-E KTPT\n",
      "4  16050008.0           Lê Ngọc Ánh  17/02/1998  F   3.0     QH-2017-E KTPT\n",
      "5  16052308.0            Vũ Thị Ánh  12/07/1998  F   9.0  QH-2017-E KINH TẾ\n",
      "6  16051728.0       Nguyễn Đức Bình        <NA>  F   6.0     QH-2016-E KTPT\n",
      "7  16051726.0      Nguyễn Ngọc Diệp  10/10/1998  F   8.0  QH-2017-E KINH TẾ\n",
      "8  16051725.0  Nguyễn Thị Ngọc Diệp  08/10/1998  F   7.0     QH-2017-E KTPT\n",
      "9  16050018.0       Nguyễn Kim Dung  20/10/1998  F   7.0     QH-2016-E KTPT\n"
     ]
    }
   ],
   "source": [
    "# Doi ten cot\n",
    "\n",
    "columns = ['MS', 'Ten', 'NgaySinh', 'GT', 'Diem', 'Lop']\n",
    "df7.columns = columns\n",
    "\n",
    "print(\"Danh sach sinh vien sau khi doi ten cot:\\n\", df7.head(10))"
   ]
  },
  {
   "cell_type": "code",
   "execution_count": 92,
   "id": "fd2b3080",
   "metadata": {
    "scrolled": true
   },
   "outputs": [
    {
     "name": "stdout",
     "output_type": "stream",
     "text": [
      "Danh sach cac ban nu co diem lon hon 7:\n",
      "             MS                 Ten    NgaySinh GT  Diem                Lop\n",
      "1   16051722.0    Đinh Thị Vân Anh  21/11/1998  F   9.0  QH-2017-E KINH TẾ\n",
      "5   16052308.0          Vũ Thị Ánh  12/07/1998  F   9.0  QH-2017-E KINH TẾ\n",
      "7   16051726.0    Nguyễn Ngọc Diệp  10/10/1998  F   8.0  QH-2017-E KINH TẾ\n",
      "19  16050033.0          Đỗ Thị Hoa  09/07/1998  F   8.0   QH-2016-E KINHTE\n",
      "24         NaN       Hoàng Quý Huy  24/02/1998  F   8.0     QH-2016-E KTPT\n",
      "25  16051743.0          Lê Đức Huy  18/10/1998  F   9.0     QH-2016-E KTPT\n",
      "37  17050050.0    Nguyễn Thảo Linh  12/03/1999  F   8.0     QH-2016-E KTPT\n",
      "45  16051765.0       Phạm Thị Ngọc  30/12/1997  F   9.0     QH-2017-E KTPT\n",
      "57  16051777.0       Lưu Thị Quỳnh  28/03/1998  F   8.0     QH-2017-E KTPT\n",
      "58  16051778.0          Lê Bảo Sơn  09/01/1998  F   9.0   QH-2016-E KINHTE\n",
      "67         NaN     Trịnh Mai Trang  25/06/1998  F   8.0     QH-2017-E KTPT\n",
      "68  17050090.0       Nguyễn Anh Tú  09/07/1999  F   9.0     QH-2016-E KTPT\n",
      "78  16051811.0      Trần Ngọc Xuân  04/11/1998  F   8.0     QH-2016-E KTPT\n",
      "79         NaN  Nguyễn Thị Hải Vân  18/09/1998  F   9.0     QH-2017-E KTPT\n"
     ]
    }
   ],
   "source": [
    "# Cho biet danh sach cac ban nu co diem > 7\n",
    "\n",
    "df_nu_7 = df7[(df7['GT'] == 'F') & (df7['Diem'] > 7)]\n",
    "\n",
    "print(\"Danh sach cac ban nu co diem lon hon 7:\\n\", df_nu_7)"
   ]
  },
  {
   "cell_type": "code",
   "execution_count": 94,
   "id": "2cc8ed5b",
   "metadata": {},
   "outputs": [],
   "source": [
    "# Gan nhung ban khong co diem bang min cot diem\n",
    "\n",
    "df7.loc[df7['Diem'].isnull(), 'Diem'] = df7['Diem'].min()\n",
    "\n",
    "print(\"Danh sach sinh vien sau khi them diem:\\n\", df7)"
   ]
  },
  {
   "cell_type": "code",
   "execution_count": 99,
   "id": "5653e57b",
   "metadata": {
    "scrolled": false
   },
   "outputs": [
    {
     "name": "stdout",
     "output_type": "stream",
     "text": [
      "Danh sach sinh vien sau khi them cot xep loai:\n",
      "             MS                  Ten    NgaySinh GT  Diem                Lop  \\\n",
      "0   16050007.0      Đặng Phương Anh  24/02/1998  F   7.0     QH-2016-E KTPT   \n",
      "1   16051722.0     Đinh Thị Vân Anh  21/11/1998  F   9.0  QH-2017-E KINH TẾ   \n",
      "2   16050014.0           Đỗ Lan Anh        <NA>  F   4.0     QH-2017-E KTPT   \n",
      "3   16051723.0        Kiều Ngọc Ánh  06/10/1998  F   6.0     QH-2017-E KTPT   \n",
      "4   16050008.0          Lê Ngọc Ánh  17/02/1998  F   3.0     QH-2017-E KTPT   \n",
      "..         ...                  ...         ... ..   ...                ...   \n",
      "80  16050174.0   Nguyễn THị Hải Yến  04/03/1998  F   6.0     QH-2016-E KTPT   \n",
      "81  16051814.0  Nguyễn Thị Ngọc Yến  11/11/1998  F   3.0     QH-2016-E KTPT   \n",
      "82  16051802.0    Nguyễn Doãn Trung  25/09/1998  M   5.0     QH-2016-E KTPT   \n",
      "83  16051803.0      Trần Văn Trường  10/02/1997  M   3.0     QH-2016-E KTPT   \n",
      "84  16051804.0      Trần THị Cẩm Tú  13/12/1998  F   3.0     QH-2016-E KTPT   \n",
      "\n",
      "       XepLoai  \n",
      "0          Khá  \n",
      "1         Giỏi  \n",
      "2   Trung bình  \n",
      "3          Khá  \n",
      "4   Trung bình  \n",
      "..         ...  \n",
      "80         Khá  \n",
      "81  Trung bình  \n",
      "82  Trung bình  \n",
      "83  Trung bình  \n",
      "84  Trung bình  \n",
      "\n",
      "[83 rows x 7 columns]\n"
     ]
    }
   ],
   "source": [
    "# Them cot xep loai\n",
    "\n",
    "def xep_loai(diem):\n",
    "    if diem >= 8:\n",
    "        return 'Giỏi'\n",
    "    elif diem >= 6 and diem < 8:\n",
    "        return 'Khá'\n",
    "    elif diem < 6:\n",
    "        return 'Trung bình'\n",
    "    else:\n",
    "        return 'Không xác định'\n",
    "    \n",
    "xepLoai = df7['Diem'].apply(xep_loai)\n",
    "\n",
    "df7['XepLoai'] = xepLoai\n",
    "\n",
    "print(\"Danh sach sinh vien sau khi them cot xep loai:\\n\", df7)"
   ]
  },
  {
   "cell_type": "code",
   "execution_count": 101,
   "id": "449c52b0",
   "metadata": {},
   "outputs": [
    {
     "data": {
      "text/plain": [
       "(83, 7)"
      ]
     },
     "execution_count": 101,
     "metadata": {},
     "output_type": "execute_result"
    }
   ],
   "source": [
    "df7.shape"
   ]
  },
  {
   "cell_type": "code",
   "execution_count": null,
   "id": "de857478",
   "metadata": {},
   "outputs": [],
   "source": []
  }
 ],
 "metadata": {
  "kernelspec": {
   "display_name": "Python 3 (ipykernel)",
   "language": "python",
   "name": "python3"
  },
  "language_info": {
   "codemirror_mode": {
    "name": "ipython",
    "version": 3
   },
   "file_extension": ".py",
   "mimetype": "text/x-python",
   "name": "python",
   "nbconvert_exporter": "python",
   "pygments_lexer": "ipython3",
   "version": "3.9.12"
  }
 },
 "nbformat": 4,
 "nbformat_minor": 5
}
