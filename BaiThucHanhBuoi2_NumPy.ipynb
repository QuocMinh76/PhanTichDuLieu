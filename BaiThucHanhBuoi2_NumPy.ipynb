{
 "cells": [
  {
   "cell_type": "code",
   "execution_count": 2,
   "id": "7e80a546",
   "metadata": {},
   "outputs": [
    {
     "name": "stdout",
     "output_type": "stream",
     "text": [
      "1.21.5\n"
     ]
    }
   ],
   "source": [
    "#Cau 3\n",
    "\n",
    "import numpy as np\n",
    "print(np.__version__)"
   ]
  },
  {
   "cell_type": "code",
   "execution_count": 44,
   "id": "fce04cab",
   "metadata": {},
   "outputs": [
    {
     "name": "stdout",
     "output_type": "stream",
     "text": [
      "[6.23042070e-307 4.67296746e-307 1.69121096e-306 1.29061074e-306\n",
      " 1.89146896e-307 7.56571288e-307 3.11525958e-307 1.24610723e-306\n",
      " 1.29061142e-306 5.53353523e-322]\n",
      "So phan tu: 10\n"
     ]
    }
   ],
   "source": [
    "# Cau 4\n",
    "\n",
    "arr4 = np.empty(10)\n",
    "\n",
    "print(arr4)\n",
    "print(\"So phan tu:\", arr4.size)"
   ]
  },
  {
   "cell_type": "code",
   "execution_count": 20,
   "id": "923d4b2c",
   "metadata": {},
   "outputs": [
    {
     "name": "stdout",
     "output_type": "stream",
     "text": [
      "So chieu: 1\n",
      "So phan tu: 6\n"
     ]
    }
   ],
   "source": [
    "# Cau 5\n",
    "\n",
    "arr5 = np.array([26, 7, 19, 27, 12, 29])\n",
    "\n",
    "print(\"So chieu:\", arr5.ndim)\n",
    "print(\"So phan tu:\", arr5.size)"
   ]
  },
  {
   "cell_type": "code",
   "execution_count": 21,
   "id": "501ba3e2",
   "metadata": {},
   "outputs": [
    {
     "name": "stdout",
     "output_type": "stream",
     "text": [
      "[7 1 4 8 6 6 7 1 8 2 6 4 6 8 6]\n",
      "Phan tu thu 5 trong mang la: 6\n"
     ]
    }
   ],
   "source": [
    "# Cau 6\n",
    "\n",
    "arr6 = np.random.randint(1, 9, size=15)\n",
    "print(arr6)\n",
    "\n",
    "print(\"Phan tu thu 5 trong mang la:\", arr6[4])"
   ]
  },
  {
   "cell_type": "code",
   "execution_count": 24,
   "id": "15d80dbc",
   "metadata": {},
   "outputs": [
    {
     "name": "stdout",
     "output_type": "stream",
     "text": [
      "[[0.45710976 0.47813709 0.12859812 0.15257588]\n",
      " [0.09292906 0.205345   0.35171473 0.98308695]\n",
      " [0.90341716 0.24066495 0.76311561 0.8743868 ]]\n",
      "So chieu: 2\n",
      "So dong va cot: (3, 4)\n"
     ]
    }
   ],
   "source": [
    "# Cau 7\n",
    "\n",
    "arr7 = np.random.random(size=(3, 4))\n",
    "print(arr7)\n",
    "\n",
    "print(\"So chieu:\", arr7.ndim)\n",
    "print(\"So dong va cot:\", arr7.shape)"
   ]
  },
  {
   "cell_type": "code",
   "execution_count": 40,
   "id": "e83e363d",
   "metadata": {},
   "outputs": [
    {
     "name": "stdout",
     "output_type": "stream",
     "text": [
      "[[ 5 10 21]\n",
      " [11 23 18]\n",
      " [22 19 35]\n",
      " [96 22 26]]\n",
      "So chieu: 2\n",
      "So dong va cot: (4, 3)\n",
      "Tat ca phan tu dong 2 va 3:\n",
      " [[11 23 18]\n",
      " [22 19 35]]\n",
      "Vector duoc tao tu gia tri cot 3:\n",
      " [21 18 35 26]\n",
      "Ma tran moi duoc tao tu gia tri sau:\n",
      " [[23 18]\n",
      " [19 35]\n",
      " [22 26]]\n",
      "Mang sau khi cap nhat gia tri 22 o dong 4 cot 2 sang 30:\n",
      " [[ 5 10 21]\n",
      " [11 23 18]\n",
      " [22 19 35]\n",
      " [96 30 26]]\n"
     ]
    }
   ],
   "source": [
    "# Cau 8\n",
    "\n",
    "arr8 = np.array([[5, 10, 21], [11, 23, 18], [22, 19, 35], [96,22, 26]])\n",
    "print(arr8)\n",
    "\n",
    "print(\"So chieu:\", arr8.ndim)\n",
    "print(\"So dong va cot:\", arr8.shape)\n",
    "\n",
    "print(\"Tat ca phan tu dong 2 va 3:\\n\", arr8[1:3, :])\n",
    "\n",
    "arr_new = np.array(arr8[:, 2])\n",
    "print(\"Vector duoc tao tu gia tri cot 3:\\n\", arr_new)\n",
    "\n",
    "arr_new2 = np.array(arr8[1:4, 1:3])\n",
    "print(\"Ma tran moi duoc tao tu gia tri sau:\\n\", arr_new2)\n",
    "\n",
    "arr8[3, 1] = 30\n",
    "print(\"Mang sau khi cap nhat gia tri 22 o dong 4 cot 2 sang 30:\\n\", arr8)"
   ]
  },
  {
   "cell_type": "code",
   "execution_count": 3,
   "id": "79cbe952",
   "metadata": {},
   "outputs": [
    {
     "name": "stdout",
     "output_type": "stream",
     "text": [
      "[10 11 12 13 14 15 16 17 18 19]\n",
      "So luong phan tu: 10\n",
      "Mang ban dau sau khi duoc bien doi:\n",
      " [[10 11 12 13 14]\n",
      " [15 16 17 18 19]]\n",
      "So chieu cua mang sau khi duoc bien doi: 2\n"
     ]
    }
   ],
   "source": [
    "# Cau 9\n",
    "\n",
    "arr9 = np.arange(10, 20)\n",
    "print(arr9)\n",
    "print(\"So luong phan tu:\", arr9.size)\n",
    "\n",
    "arrRe = arr9.reshape(2, 5)\n",
    "print(\"Mang ban dau sau khi duoc bien doi:\\n\", arrRe)\n",
    "print(\"So chieu cua mang sau khi duoc bien doi:\", arrRe.ndim)"
   ]
  },
  {
   "cell_type": "code",
   "execution_count": 80,
   "id": "f3a1447d",
   "metadata": {},
   "outputs": [
    {
     "name": "stdout",
     "output_type": "stream",
     "text": [
      "Mang ban dau: [99 46 87 62 11 32]\n",
      "Phan tu lon nhat mang: 99\n",
      "Phan tu nho nhat mang: 11\n",
      "Mang sau khi duoc sap xep tang dan: [11 32 46 62 87 99]\n",
      "Cac phan tu o vi tri chan la: [99 87 11]\n",
      "Phan tu thu 4 la so chan\n",
      "So phan tu chan trong mang: 3\n",
      "Gia tri trung binh cua mang: 56.166666666666664\n",
      "Gia tri trung vi cua mang: 54.0\n",
      "Tong cac gia tri trong mang: 337\n",
      "Mang sau khi thay gia tri 87 bang trung binh cua mang: [99 46 56 62 11 32]\n",
      "Mang sau khi xoa gia tri 62: [99 46 56 11 32]\n"
     ]
    }
   ],
   "source": [
    "# Cau 10\n",
    "\n",
    "arr10 = np.array([99, 46, 87, 62, 11, 32])\n",
    "print(\"Mang ban dau:\", arr10)\n",
    "\n",
    "# Tim phan tu min max\n",
    "print(\"Phan tu lon nhat mang:\", np.max(arr10))\n",
    "print(\"Phan tu nho nhat mang:\", np.min(arr10))\n",
    "\n",
    "# Sap xep mang tang\n",
    "arr10tang = arr10.copy()\n",
    "arr10tang.sort()\n",
    "print(\"Mang sau khi duoc sap xep tang dan:\", arr10tang)\n",
    "\n",
    "# In cac phan tu o vi tri chan\n",
    "print(\"Cac phan tu o vi tri chan la:\", end=\" \")\n",
    "## Cach 1\n",
    "#for i in range(arr10.size):\n",
    "    #if (i % 2 == 0):\n",
    "        #print(arr10[i], end=\" \")\n",
    "#print()\n",
    "## Cach 2\n",
    "print(arr10[::2])\n",
    "\n",
    "# Kiem tra phan tu thu 4 la chan hay le\n",
    "if (arr10[3] % 2 == 0):\n",
    "    print(\"Phan tu thu 4 la so chan\")\n",
    "else:\n",
    "    print(\"Phan tu thu 4 la so le\")\n",
    "    \n",
    "# In ra cac phan tu chan trong mang\n",
    "## Cach 1\n",
    "#index_chan = np.where(arr10 % 2 == 0)\n",
    "#print(\"So phan tu chan trong mang:\", arr10[index_chan].size)\n",
    "## Cach 2\n",
    "print(\"So phan tu chan trong mang:\", arr10[arr10 % 2 == 0].size)\n",
    "\n",
    "# Tinh mean, median, sum\n",
    "print(\"Gia tri trung binh cua mang:\", np.mean(arr10))\n",
    "print(\"Gia tri trung vi cua mang:\", np.median(arr10))\n",
    "print(\"Tong cac gia tri trong mang:\", np.sum(arr10))\n",
    "\n",
    "# Thay gia tri\n",
    "find = np.where(arr10 == 87)\n",
    "arr10[find] = np.mean(arr10)\n",
    "print(\"Mang sau khi thay gia tri 87 bang trung binh cua mang:\", arr10)\n",
    "\n",
    "# Xoa phan tu\n",
    "find = np.where(arr10 == 62)\n",
    "arr10xoa = np.delete(arr10, find)\n",
    "print(\"Mang sau khi xoa gia tri 62:\", arr10xoa)"
   ]
  },
  {
   "cell_type": "code",
   "execution_count": 61,
   "id": "3a12d2f0",
   "metadata": {},
   "outputs": [
    {
     "name": "stdout",
     "output_type": "stream",
     "text": [
      "Ma tran ban dau:\n",
      " [[[ 5 10 21]\n",
      "  [11 23 18]\n",
      "  [22 19 35]]\n",
      "\n",
      " [[50 10 41]\n",
      "  [61 23 28]\n",
      "  [42 11 25]]\n",
      "\n",
      " [[96 22 26]\n",
      "  [87 56 23]\n",
      "  [90 75 32]]]\n",
      "Hai dong cuoi cua ma tran thu nhat:\n",
      " [[11 23 18]\n",
      " [22 19 35]]\n",
      "Ma tran sau khi thay the cot dau cua ma tran thu hai thanh gia tri trung binh cua ma tran thu nhat:\n",
      " [[[ 5 10 21]\n",
      "  [11 23 18]\n",
      "  [22 19 35]]\n",
      "\n",
      " [[18 10 41]\n",
      "  [18 23 28]\n",
      "  [18 11 25]]\n",
      "\n",
      " [[96 22 26]\n",
      "  [87 56 23]\n",
      "  [90 75 32]]]\n",
      "Tong gia tri ma tran thu 3: 507\n",
      "Ma tran sau khi thay the dong cuoi cua ma tran thu ba thanh -1:\n",
      " [[[ 5 10 21]\n",
      "  [11 23 18]\n",
      "  [22 19 35]]\n",
      "\n",
      " [[50 10 41]\n",
      "  [61 23 28]\n",
      "  [42 11 25]]\n",
      "\n",
      " [[96 22 26]\n",
      "  [87 56 23]\n",
      "  [-1 -1 -1]]]\n",
      "Ma tran moi duoc tao ra tu ma tran thu 2:\n",
      " [[50 10 41]\n",
      " [61 23 28]\n",
      " [42 11 25]]\n",
      "So chieu cua ma tran moi: 2\n",
      "Ma tran vua tao sau khi chuyen thanh vector: [50 10 41 61 23 28 42 11 25]\n",
      "Vector sau khi them 45 vao cuoi: [50 10 41 61 23 28 42 11 25 45]\n",
      "Vector sau khi them 99 vao dau: [99 50 10 41 61 23 28 42 11 25 45]\n",
      "List cac gia tri duoc lay tu mang ba chieu ban dau:\n",
      " [[[5, 10, 21], [11, 23, 18], [22, 19, 35]], [[50, 10, 41], [61, 23, 28], [42, 11, 25]], [[96, 22, 26], [87, 56, 23], [90, 75, 32]]]\n"
     ]
    }
   ],
   "source": [
    "# Cau 11\n",
    "\n",
    "arr11 = np.array([\n",
    "    [[5, 10, 21], [11, 23, 18], [22, 19, 35]],\n",
    "    [[50, 10, 41], [61, 23, 28], [42, 11, 25]],\n",
    "    [[96, 22, 26], [87, 56, 23], [90, 75, 32]]\n",
    "])\n",
    "print(\"Ma tran ban dau:\\n\", arr11)\n",
    "\n",
    "# Xuat hai dong cuoi cua ma tran thu nhat\n",
    "print(\"Hai dong cuoi cua ma tran thu nhat:\\n\", arr11[0, 1:3, :])\n",
    "\n",
    "# Thay cot dau mt2 thanh trung binh cua mt1\n",
    "arr11_copy = arr11.copy()\n",
    "arr11_copy[1,:,:1] = np.mean(arr11[0])\n",
    "print(\"Ma tran sau khi thay the cot dau cua ma tran thu hai thanh gia tri trung binh cua ma tran thu nhat:\\n\", arr11_copy)\n",
    "\n",
    "# Tong cac gia tri o mt3\n",
    "print(\"Tong gia tri ma tran thu 3:\", np.sum(arr11[2]))\n",
    "\n",
    "# Thay dong cuoi cua mt3 thanh -1\n",
    "arr11_copy = arr11.copy()\n",
    "arr11_copy[2,2:3,:] = -1\n",
    "print(\"Ma tran sau khi thay the dong cuoi cua ma tran thu ba thanh -1:\\n\", arr11_copy)\n",
    "\n",
    "# Tao ma tran moi tu mt2 va cho biet so chieu cua no\n",
    "arr_new = np.array(arr11[1])\n",
    "print(\"Ma tran moi duoc tao ra tu ma tran thu 2:\\n\", arr_new)\n",
    "print(\"So chieu cua ma tran moi:\", arr_new.ndim)\n",
    "\n",
    "# Chuyen ma tran vua tao thanh vector va them vao cuoi 45\n",
    "vector = arr_new.ravel()\n",
    "print(\"Ma tran vua tao sau khi chuyen thanh vector:\", vector)\n",
    "vector= np.append(vector, 45)\n",
    "print(\"Vector sau khi them 45 vao cuoi:\", vector)\n",
    "\n",
    "# Them vao dau 99\n",
    "vector = np.insert(vector, 0, 99)\n",
    "print(\"Vector sau khi them 99 vao dau:\", vector)\n",
    "\n",
    "# Tao list tu ma tran 3 chieu ban dau\n",
    "list_3d = arr11.tolist()\n",
    "print(\"List cac gia tri duoc lay tu mang ba chieu ban dau:\\n\", list_3d)"
   ]
  },
  {
   "cell_type": "code",
   "execution_count": 87,
   "id": "7d5dafb9",
   "metadata": {},
   "outputs": [
    {
     "name": "stdout",
     "output_type": "stream",
     "text": [
      "Vector duoc tao tu danh sach tren la: [15 32 10 32 29 48 21]\n",
      "So phan tu cua vector: 7\n",
      "So chieu cua vector: 1\n",
      "Vector sau khi them gia tri 55 vao vi tri thu 2: [15 55 32 10 32 29 48 21]\n",
      "Vector sau khi chuyen len thanh ma tran voi kich thuoc 4x2:\n",
      " [[15 55]\n",
      " [32 10]\n",
      " [32 29]\n",
      " [48 21]]\n",
      "Cac phan tu o vi tri le: [55 10 29 21]\n"
     ]
    }
   ],
   "source": [
    "# Cau 12\n",
    "\n",
    "ds = [15, 32, 10, 32, 29, 48, 21]\n",
    "\n",
    "#Tao vector tu ds\n",
    "arr12 = np.array(ds)\n",
    "print(\"Vector duoc tao tu danh sach tren la:\", arr12)\n",
    "\n",
    "#In ra so phan tu va chieu cua vector\n",
    "print(\"So phan tu cua vector:\", arr12.size)\n",
    "print(\"So chieu cua vector:\", arr12.ndim)\n",
    "\n",
    "# Chuyen vector thanh ma tran 2x4\n",
    "# arr12.reshape(2, 4)\n",
    "# Vi co 7 phan tu nen cau lenh nay bi loi\n",
    "\n",
    "# Them 55 vao vi tri thu 2 va chuyen vector thanh ma tran 4x2\n",
    "arr12 = np.insert(arr12, 1, 55)\n",
    "print(\"Vector sau khi them gia tri 55 vao vi tri thu 2:\", arr12)\n",
    "arr12_new = arr12.reshape(4, 2)\n",
    "print(\"Vector sau khi chuyen len thanh ma tran voi kich thuoc 4x2:\\n\", arr12_new)\n",
    "\n",
    "# Xuat ra cac phan tu o vi tri le\n",
    "print(\"Cac phan tu o vi tri le:\", arr12_new.ravel()[1::2])"
   ]
  },
  {
   "cell_type": "code",
   "execution_count": 155,
   "id": "44b901df",
   "metadata": {},
   "outputs": [
    {
     "name": "stdout",
     "output_type": "stream",
     "text": [
      "Mang ban dau:\n",
      " [['7503' 'Trần Hải Nam' '2000' 'Nam']\n",
      " ['3010' 'Đỗ Minh Hạnh' '2002' 'Nữ']\n",
      " ['6198' 'Trần Anh Tài' '2001' 'Nam']]\n",
      "Mang sau khi them:\n",
      " [['7503' 'Trần Hải Nam' '2000' 'Nam']\n",
      " ['3010' 'Đỗ Minh Hạnh' '2002' 'Nữ']\n",
      " ['6198' 'Trần Anh Tài' '2001' 'Nam']\n",
      " ['2876' 'Lê Trung Tín' '2002' 'Nam']]\n",
      "So nguoi sinh nam 2002: 2\n",
      "So nam: 2\n",
      "So nu: 2\n"
     ]
    }
   ],
   "source": [
    "#Cau 13\n",
    "\n",
    "my_dict = {\n",
    "    \"7503\": {\n",
    "        \"Họ tên\" : \"Trần Hải Nam\",\n",
    "        \"Năm sinh\" : \"2000\",\n",
    "        \"Giới tính\" : \"Nam\"\n",
    "    },\n",
    "    \"3010\": {\n",
    "        \"Họ tên\" : \"Đỗ Minh Hạnh\",\n",
    "        \"Năm sinh\" : \"2002\",\n",
    "        \"Giới tính\" : \"Nữ\"\n",
    "    },\n",
    "    \"6198\": {\n",
    "        \"Họ tên\" : \"Trần Anh Tài\",\n",
    "        \"Năm sinh\" : \"2001\",\n",
    "        \"Giới tính\" : \"Nam\"\n",
    "    }\n",
    "}\n",
    "\n",
    "# Chuyen dictionary thanh array\n",
    "arr13 = np.array([(key, value['Họ tên'], value['Năm sinh'], value['Giới tính']) for key, value in my_dict.items()])\n",
    "print(\"Mang ban dau:\\n\", arr13)\n",
    "\n",
    "# Them mot nguoi vao\n",
    "arr13 = np.concatenate((arr13, [['2876', 'Lê Trung Tín', '2002', 'Nam']]), axis=0)\n",
    "print(\"Mang sau khi them:\\n\", arr13)\n",
    "\n",
    "# Dem nguoi sinh nam 2002\n",
    "find2002 = np.where(arr13[:,2:3] == \"2002\")\n",
    "print(\"So nguoi sinh nam 2002:\", len(find2002)) #arr13[find].size dung cung duoc\n",
    "\n",
    "#Dem nam nu\n",
    "findNam = np.where(arr13[:,3:4] == \"Nam\")\n",
    "print(\"So nam:\", len(findNam))\n",
    "findNu = np.where(arr13[:,3:4] == \"Nữ\")\n",
    "print(\"So nu:\", len(findNu))"
   ]
  },
  {
   "cell_type": "code",
   "execution_count": 139,
   "id": "e7dab946",
   "metadata": {},
   "outputs": [
    {
     "name": "stdout",
     "output_type": "stream",
     "text": [
      "2\n"
     ]
    }
   ],
   "source": [
    "count = 0\n",
    "\n",
    "for i in arr13[:,2:3]:\n",
    "    if (i == \"2002\"):\n",
    "        count += 1\n",
    "        \n",
    "print(count)"
   ]
  },
  {
   "cell_type": "code",
   "execution_count": 150,
   "id": "432fe2e6",
   "metadata": {},
   "outputs": [
    {
     "name": "stdout",
     "output_type": "stream",
     "text": [
      "(array([1, 3], dtype=int64), array([0, 0], dtype=int64))\n",
      "2\n"
     ]
    }
   ],
   "source": [
    "a = np.where(arr13[:,2:3] == \"2002\")\n",
    "print(a)\n",
    "print(len(a))"
   ]
  },
  {
   "cell_type": "code",
   "execution_count": 153,
   "id": "75f21255",
   "metadata": {},
   "outputs": [
    {
     "data": {
      "text/plain": [
       "array([['Nam'],\n",
       "       ['Nữ'],\n",
       "       ['Nam'],\n",
       "       ['Nam']], dtype='<U12')"
      ]
     },
     "execution_count": 153,
     "metadata": {},
     "output_type": "execute_result"
    }
   ],
   "source": [
    "arr13[:,3:4]"
   ]
  },
  {
   "cell_type": "code",
   "execution_count": null,
   "id": "c7b661dc",
   "metadata": {},
   "outputs": [],
   "source": []
  }
 ],
 "metadata": {
  "kernelspec": {
   "display_name": "Python 3 (ipykernel)",
   "language": "python",
   "name": "python3"
  },
  "language_info": {
   "codemirror_mode": {
    "name": "ipython",
    "version": 3
   },
   "file_extension": ".py",
   "mimetype": "text/x-python",
   "name": "python",
   "nbconvert_exporter": "python",
   "pygments_lexer": "ipython3",
   "version": "3.9.12"
  }
 },
 "nbformat": 4,
 "nbformat_minor": 5
}
