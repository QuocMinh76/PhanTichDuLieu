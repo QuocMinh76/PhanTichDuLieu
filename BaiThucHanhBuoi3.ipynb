{
 "cells": [
  {
   "cell_type": "code",
   "execution_count": 1,
   "id": "877b3d8c",
   "metadata": {},
   "outputs": [],
   "source": [
    "import pandas as pd"
   ]
  },
  {
   "cell_type": "code",
   "execution_count": 25,
   "id": "77ad6b16",
   "metadata": {},
   "outputs": [
    {
     "name": "stdout",
     "output_type": "stream",
     "text": [
      "Danh sach sinh vien da load:\n",
      "             ID                 Name         BOD Gender  Mark  \\\n",
      "0   16050007.0      Đặng Phương Anh  24/02/1998      F   7.0   \n",
      "1   16051722.0     Đinh Thị Vân Anh  21/11/1998      F   9.0   \n",
      "2   16050014.0           Đỗ Lan Anh         NaN      F   4.0   \n",
      "3   16051723.0        Kiều Ngọc Ánh  06/10/1998      F   6.0   \n",
      "4   16050008.0          Lê Ngọc Ánh  17/02/1998      F   3.0   \n",
      "..         ...                  ...         ...    ...   ...   \n",
      "80  16050174.0   Nguyễn THị Hải Yến  04/03/1998      F   6.0   \n",
      "81  16051814.0  Nguyễn Thị Ngọc Yến  11/11/1998      F   NaN   \n",
      "82  16051802.0    Nguyễn Doãn Trung  25/09/1998      M   5.0   \n",
      "83  16051803.0      Trần Văn Trường  10/02/1997      M   NaN   \n",
      "84  16051804.0      Trần THị Cẩm Tú  13/12/1998      F   NaN   \n",
      "\n",
      "                Class  \n",
      "0      QH-2016-E KTPT  \n",
      "1   QH-2017-E KINH TẾ  \n",
      "2      QH-2017-E KTPT  \n",
      "3      QH-2017-E KTPT  \n",
      "4      QH-2017-E KTPT  \n",
      "..                ...  \n",
      "80     QH-2016-E KTPT  \n",
      "81     QH-2016-E KTPT  \n",
      "82     QH-2016-E KTPT  \n",
      "83     QH-2016-E KTPT  \n",
      "84     QH-2016-E KTPT  \n",
      "\n",
      "[85 rows x 6 columns]\n"
     ]
    }
   ],
   "source": [
    "# Cau 6\n",
    "\n",
    "# Load file\n",
    "df6 = pd.read_csv(\"danhsachSV.csv\", sep=';')\n",
    "\n",
    "print(\"Danh sach sinh vien da load:\\n\", df6)"
   ]
  },
  {
   "cell_type": "code",
   "execution_count": 26,
   "id": "4aef4344",
   "metadata": {},
   "outputs": [
    {
     "name": "stdout",
     "output_type": "stream",
     "text": [
      "So dong:  85\n",
      "So cot:  6\n"
     ]
    }
   ],
   "source": [
    "# So quan sat va thuoc tinh\n",
    "\n",
    "dem = df6.shape\n",
    "print(\"So dong: \", dem[0])\n",
    "print(\"So cot: \", dem[1])"
   ]
  },
  {
   "cell_type": "code",
   "execution_count": 27,
   "id": "0a31e55b",
   "metadata": {},
   "outputs": [
    {
     "name": "stdout",
     "output_type": "stream",
     "text": [
      "10 dong dau cua bo du lieu:\n",
      "            ID                  Name         BOD Gender  Mark  \\\n",
      "0  16050007.0       Đặng Phương Anh  24/02/1998      F   7.0   \n",
      "1  16051722.0      Đinh Thị Vân Anh  21/11/1998      F   9.0   \n",
      "2  16050014.0            Đỗ Lan Anh         NaN      F   4.0   \n",
      "3  16051723.0         Kiều Ngọc Ánh  06/10/1998      F   6.0   \n",
      "4  16050008.0           Lê Ngọc Ánh  17/02/1998      F   3.0   \n",
      "5  16052308.0            Vũ Thị Ánh  12/07/1998      F   9.0   \n",
      "6  16051728.0       Nguyễn Đức Bình         NaN      F   6.0   \n",
      "7  16051726.0      Nguyễn Ngọc Diệp  10/10/1998      F   8.0   \n",
      "8  16051725.0  Nguyễn Thị Ngọc Diệp  08/10/1998      F   7.0   \n",
      "9  16050018.0       Nguyễn Kim Dung  20/10/1998      F   7.0   \n",
      "\n",
      "               Class  \n",
      "0     QH-2016-E KTPT  \n",
      "1  QH-2017-E KINH TẾ  \n",
      "2     QH-2017-E KTPT  \n",
      "3     QH-2017-E KTPT  \n",
      "4     QH-2017-E KTPT  \n",
      "5  QH-2017-E KINH TẾ  \n",
      "6     QH-2016-E KTPT  \n",
      "7  QH-2017-E KINH TẾ  \n",
      "8     QH-2017-E KTPT  \n",
      "9     QH-2016-E KTPT  \n",
      "\n",
      "10 dong cuoi cua bo du lieu:\n",
      "             ID                 Name         BOD Gender  Mark           Class\n",
      "75  16051803.0      Trần Văn Trường  10/02/1997      M   NaN  QH-2016-E KTPT\n",
      "76  16051804.0      Trần THị Cẩm Tú  13/12/1998      F   NaN  QH-2016-E KTPT\n",
      "77  17050098.0       Nguyễn THị Vân  21/09/1999      F   7.0  QH-2017-E KTPT\n",
      "78  16051811.0       Trần Ngọc Xuân  04/11/1998      F   8.0  QH-2016-E KTPT\n",
      "79         NaN   Nguyễn Thị Hải Vân  18/09/1998      F   9.0  QH-2017-E KTPT\n",
      "80  16050174.0   Nguyễn THị Hải Yến  04/03/1998      F   6.0  QH-2016-E KTPT\n",
      "81  16051814.0  Nguyễn Thị Ngọc Yến  11/11/1998      F   NaN  QH-2016-E KTPT\n",
      "82  16051802.0    Nguyễn Doãn Trung  25/09/1998      M   5.0  QH-2016-E KTPT\n",
      "83  16051803.0      Trần Văn Trường  10/02/1997      M   NaN  QH-2016-E KTPT\n",
      "84  16051804.0      Trần THị Cẩm Tú  13/12/1998      F   NaN  QH-2016-E KTPT\n"
     ]
    }
   ],
   "source": [
    "# Hien thi 10 dong dau va 10 dong cuoi\n",
    "\n",
    "print(\"10 dong dau cua bo du lieu:\\n\", df6.head(10))\n",
    "\n",
    "print(\"\\n10 dong cuoi cua bo du lieu:\\n\", df6.tail(10))"
   ]
  },
  {
   "cell_type": "code",
   "execution_count": 28,
   "id": "0ebbecd7",
   "metadata": {},
   "outputs": [
    {
     "name": "stdout",
     "output_type": "stream",
     "text": [
      "So gia tri null cua moi thuoc tinh:\n",
      " ID         7\n",
      "Name       0\n",
      "BOD        4\n",
      "Gender     0\n",
      "Mark      18\n",
      "Class      0\n",
      "dtype: int64\n",
      "Thuoc tinh co nhieu gia tri null nhat la: Mark ( 18  gia tri)\n"
     ]
    }
   ],
   "source": [
    "# Xem gia tri null cua moi thuoc tinh va thuoc tinh co nhieu gia tri null nhat\n",
    "\n",
    "null_count = df6.isnull().sum()\n",
    "\n",
    "print(\"So gia tri null cua moi thuoc tinh:\\n\", null_count)\n",
    "\n",
    "max_null = null_count.idxmax()\n",
    "num_null = null_count.max()\n",
    "print(\"Thuoc tinh co nhieu gia tri null nhat la:\", max_null, \"(\", num_null, \" gia tri)\")"
   ]
  },
  {
   "cell_type": "code",
   "execution_count": 29,
   "id": "c87a23b6",
   "metadata": {},
   "outputs": [
    {
     "name": "stdout",
     "output_type": "stream",
     "text": [
      "Danh sach sinh vien sau khi doi M -> Nam, F -> Nu:\n",
      "             ID                 Name         BOD Gender  Mark  \\\n",
      "0   16050007.0      Đặng Phương Anh  24/02/1998     Nữ   7.0   \n",
      "1   16051722.0     Đinh Thị Vân Anh  21/11/1998     Nữ   9.0   \n",
      "2   16050014.0           Đỗ Lan Anh         NaN     Nữ   4.0   \n",
      "3   16051723.0        Kiều Ngọc Ánh  06/10/1998     Nữ   6.0   \n",
      "4   16050008.0          Lê Ngọc Ánh  17/02/1998     Nữ   3.0   \n",
      "..         ...                  ...         ...    ...   ...   \n",
      "80  16050174.0   Nguyễn THị Hải Yến  04/03/1998     Nữ   6.0   \n",
      "81  16051814.0  Nguyễn Thị Ngọc Yến  11/11/1998     Nữ   NaN   \n",
      "82  16051802.0    Nguyễn Doãn Trung  25/09/1998    Nam   5.0   \n",
      "83  16051803.0      Trần Văn Trường  10/02/1997    Nam   NaN   \n",
      "84  16051804.0      Trần THị Cẩm Tú  13/12/1998     Nữ   NaN   \n",
      "\n",
      "                Class  \n",
      "0      QH-2016-E KTPT  \n",
      "1   QH-2017-E KINH TẾ  \n",
      "2      QH-2017-E KTPT  \n",
      "3      QH-2017-E KTPT  \n",
      "4      QH-2017-E KTPT  \n",
      "..                ...  \n",
      "80     QH-2016-E KTPT  \n",
      "81     QH-2016-E KTPT  \n",
      "82     QH-2016-E KTPT  \n",
      "83     QH-2016-E KTPT  \n",
      "84     QH-2016-E KTPT  \n",
      "\n",
      "[85 rows x 6 columns]\n"
     ]
    }
   ],
   "source": [
    "# Doi gia tri M -> Nam, F -> Nu\n",
    "\n",
    "df6['Gender'] = df6['Gender'].replace({'M':'Nam', 'F':'Nữ'})\n",
    "\n",
    "print(\"Danh sach sinh vien sau khi doi M -> Nam, F -> Nu:\\n\", df6)"
   ]
  },
  {
   "cell_type": "code",
   "execution_count": 30,
   "id": "ce7560b5",
   "metadata": {},
   "outputs": [
    {
     "name": "stdout",
     "output_type": "stream",
     "text": [
      "Danh sach sinh vien sau khi them diem:\n",
      "             ID                 Name         BOD Gender      Mark  \\\n",
      "0   16050007.0      Đặng Phương Anh  24/02/1998     Nữ  7.000000   \n",
      "1   16051722.0     Đinh Thị Vân Anh  21/11/1998     Nữ  9.000000   \n",
      "2   16050014.0           Đỗ Lan Anh         NaN     Nữ  4.000000   \n",
      "3   16051723.0        Kiều Ngọc Ánh  06/10/1998     Nữ  6.000000   \n",
      "4   16050008.0          Lê Ngọc Ánh  17/02/1998     Nữ  3.000000   \n",
      "..         ...                  ...         ...    ...       ...   \n",
      "80  16050174.0   Nguyễn THị Hải Yến  04/03/1998     Nữ  6.000000   \n",
      "81  16051814.0  Nguyễn Thị Ngọc Yến  11/11/1998     Nữ  6.089552   \n",
      "82  16051802.0    Nguyễn Doãn Trung  25/09/1998    Nam  5.000000   \n",
      "83  16051803.0      Trần Văn Trường  10/02/1997    Nam  6.089552   \n",
      "84  16051804.0      Trần THị Cẩm Tú  13/12/1998     Nữ  6.089552   \n",
      "\n",
      "                Class  \n",
      "0      QH-2016-E KTPT  \n",
      "1   QH-2017-E KINH TẾ  \n",
      "2      QH-2017-E KTPT  \n",
      "3      QH-2017-E KTPT  \n",
      "4      QH-2017-E KTPT  \n",
      "..                ...  \n",
      "80     QH-2016-E KTPT  \n",
      "81     QH-2016-E KTPT  \n",
      "82     QH-2016-E KTPT  \n",
      "83     QH-2016-E KTPT  \n",
      "84     QH-2016-E KTPT  \n",
      "\n",
      "[85 rows x 6 columns]\n"
     ]
    }
   ],
   "source": [
    "# Gan nhung ban khong co diem bang tb cot diem\n",
    "\n",
    "df6.loc[df6['Mark'].isnull(), 'Mark'] = df6['Mark'].mean()\n",
    "\n",
    "print(\"Danh sach sinh vien sau khi them diem:\\n\", df6)"
   ]
  },
  {
   "cell_type": "code",
   "execution_count": 31,
   "id": "67d5dd97",
   "metadata": {},
   "outputs": [
    {
     "name": "stdout",
     "output_type": "stream",
     "text": [
      "So luong du lieu bi trung: 8\n"
     ]
    }
   ],
   "source": [
    "# Kiem tra so luong du lieu trung\n",
    "\n",
    "dup = df6.duplicated().sum()\n",
    "\n",
    "print(\"So luong du lieu bi trung:\", dup)"
   ]
  },
  {
   "cell_type": "code",
   "execution_count": 35,
   "id": "b96b945c",
   "metadata": {},
   "outputs": [],
   "source": [
    "# Thay cac gia tri > 10 thanh max\n",
    "\n",
    "df6.loc[df6['Mark'] > 10, 'Mark'] = df6['Mark'].max()\n",
    "\n",
    "print(\"Danh sach sinh vien sau khi sua gia tri outlier:\\n\", df6)"
   ]
  },
  {
   "cell_type": "code",
   "execution_count": 37,
   "id": "29f8a4f5",
   "metadata": {},
   "outputs": [
    {
     "name": "stdout",
     "output_type": "stream",
     "text": [
      "Danh sach sinh vien sau khi xoa gia tri trung:\n",
      "             ID                 Name         BOD Gender      Mark  \\\n",
      "0   16050007.0      Đặng Phương Anh  24/02/1998     Nữ  7.000000   \n",
      "1   16051722.0     Đinh Thị Vân Anh  21/11/1998     Nữ  9.000000   \n",
      "2   16050014.0           Đỗ Lan Anh         NaN     Nữ  4.000000   \n",
      "3   16051723.0        Kiều Ngọc Ánh  06/10/1998     Nữ  6.000000   \n",
      "4   16050008.0          Lê Ngọc Ánh  17/02/1998     Nữ  3.000000   \n",
      "..         ...                  ...         ...    ...       ...   \n",
      "77  17050098.0       Nguyễn THị Vân  21/09/1999     Nữ  7.000000   \n",
      "78  16051811.0       Trần Ngọc Xuân  04/11/1998     Nữ  8.000000   \n",
      "79         NaN   Nguyễn Thị Hải Vân  18/09/1998     Nữ  9.000000   \n",
      "80  16050174.0   Nguyễn THị Hải Yến  04/03/1998     Nữ  6.000000   \n",
      "81  16051814.0  Nguyễn Thị Ngọc Yến  11/11/1998     Nữ  6.089552   \n",
      "\n",
      "                Class  \n",
      "0      QH-2016-E KTPT  \n",
      "1   QH-2017-E KINH TẾ  \n",
      "2      QH-2017-E KTPT  \n",
      "3      QH-2017-E KTPT  \n",
      "4      QH-2017-E KTPT  \n",
      "..                ...  \n",
      "77     QH-2017-E KTPT  \n",
      "78     QH-2016-E KTPT  \n",
      "79     QH-2017-E KTPT  \n",
      "80     QH-2016-E KTPT  \n",
      "81     QH-2016-E KTPT  \n",
      "\n",
      "[77 rows x 6 columns]\n",
      "So dong sau khi xoa gia tri trung:  77\n",
      "So cot sau khi xoa gia tri trung:  6\n"
     ]
    }
   ],
   "source": [
    "# Loai bo nhung dong trung\n",
    "\n",
    "df6.drop_duplicates(inplace=True)\n",
    "\n",
    "print(\"Danh sach sinh vien sau khi xoa gia tri trung:\\n\", df6)\n",
    "\n",
    "dem = df6.shape\n",
    "print(\"So dong sau khi xoa gia tri trung: \", dem[0])\n",
    "print(\"So cot sau khi xoa gia tri trung: \", dem[1])"
   ]
  },
  {
   "cell_type": "code",
   "execution_count": 39,
   "id": "58032891",
   "metadata": {},
   "outputs": [
    {
     "name": "stdout",
     "output_type": "stream",
     "text": [
      "Danh sach sinh vien sau khi doi ten cot:\n",
      "           MSSV               Ho Ten   Ngay Sinh Gioi Tinh      Diem  \\\n",
      "0   16050007.0      Đặng Phương Anh  24/02/1998        Nữ  7.000000   \n",
      "1   16051722.0     Đinh Thị Vân Anh  21/11/1998        Nữ  9.000000   \n",
      "2   16050014.0           Đỗ Lan Anh         NaN        Nữ  4.000000   \n",
      "3   16051723.0        Kiều Ngọc Ánh  06/10/1998        Nữ  6.000000   \n",
      "4   16050008.0          Lê Ngọc Ánh  17/02/1998        Nữ  3.000000   \n",
      "..         ...                  ...         ...       ...       ...   \n",
      "77  17050098.0       Nguyễn THị Vân  21/09/1999        Nữ  7.000000   \n",
      "78  16051811.0       Trần Ngọc Xuân  04/11/1998        Nữ  8.000000   \n",
      "79         NaN   Nguyễn Thị Hải Vân  18/09/1998        Nữ  9.000000   \n",
      "80  16050174.0   Nguyễn THị Hải Yến  04/03/1998        Nữ  6.000000   \n",
      "81  16051814.0  Nguyễn Thị Ngọc Yến  11/11/1998        Nữ  6.089552   \n",
      "\n",
      "                  Lop  \n",
      "0      QH-2016-E KTPT  \n",
      "1   QH-2017-E KINH TẾ  \n",
      "2      QH-2017-E KTPT  \n",
      "3      QH-2017-E KTPT  \n",
      "4      QH-2017-E KTPT  \n",
      "..                ...  \n",
      "77     QH-2017-E KTPT  \n",
      "78     QH-2016-E KTPT  \n",
      "79     QH-2017-E KTPT  \n",
      "80     QH-2016-E KTPT  \n",
      "81     QH-2016-E KTPT  \n",
      "\n",
      "[77 rows x 6 columns]\n"
     ]
    }
   ],
   "source": [
    "# Doi ten cot\n",
    "\n",
    "columns = ['MSSV', 'Ho Ten', 'Ngay Sinh', 'Gioi Tinh', 'Diem', 'Lop']\n",
    "df6.columns = columns\n",
    "\n",
    "print(\"Danh sach sinh vien sau khi doi ten cot:\\n\", df6)"
   ]
  },
  {
   "cell_type": "code",
   "execution_count": 44,
   "id": "f9817bf3",
   "metadata": {},
   "outputs": [
    {
     "name": "stdout",
     "output_type": "stream",
     "text": [
      "DSSV chi chua cac ban nam:\n",
      "           MSSV                Ho Ten                Lop\n",
      "12  16050021.0          Lê Thị Giang  QH-2017-E KINH TẾ\n",
      "13  16051730.0         Mai Thị Giang     QH-2017-E KTPT\n",
      "16  16050028.0  Nguyễn Thị Thúy Hiền  QH-2017-E KINH TẾ\n",
      "18  17050022.0       Hoàng Minh Hiếu     QH-2016-E KTPT\n",
      "21         NaN   Phùng Thị Bích Hoàn     QH-2017-E KTPT\n",
      "22  16050038.0           Đỗ Thị Hồng  QH-2017-E KINH TẾ\n",
      "23  17050035.0      Nguyễn Thanh Huệ     QH-2016-E KTPT\n",
      "30         NaN       Trương Tuấn Huy     QH-2016-E KTPT\n",
      "38  16050084.0     Phạm Lê Diệu Linh     QH-2016-E KTPT\n",
      "41  16050091.0     Trương Hoàng Minh     QH-2017-E KTPT\n",
      "42         NaN          Nguyễn Hà My     QH-2017-E KTPT\n",
      "44         NaN       Nguyễn Thu Ngân     QH-2017-E KTPT\n",
      "63  16050175.0       Nông Thanh Thảo     QH-2016-E KTPT\n",
      "64  16051784.0    Hoàng Thị Thu Thủy     QH-2016-E KTPT\n",
      "66  16050140.0        Trần Thị Trang     QH-2016-E KTPT\n",
      "74  16051802.0     Nguyễn Doãn Trung     QH-2016-E KTPT\n",
      "75  16051803.0       Trần Văn Trường     QH-2016-E KTPT\n"
     ]
    }
   ],
   "source": [
    "# Tao df cac ban co gioi tinh Nam va luu thanh file csv\n",
    "\n",
    "df6_nam = df6.loc[df6['Gioi Tinh'] == \"Nam\"]\n",
    "cols = ['MSSV', 'Ho Ten','Lop']\n",
    "df6_nam = df6_nam[cols]\n",
    "print(\"DSSV chi chua cac ban nam:\\n\", df6_nam)"
   ]
  },
  {
   "cell_type": "code",
   "execution_count": 45,
   "id": "07704905",
   "metadata": {},
   "outputs": [],
   "source": [
    "# Luu danh sach cac ban nam vao file .csv\n",
    "\n",
    "df6_nam.to_csv(\"SV_nam.csv\", encoding='utf-8', index=False, header=True)"
   ]
  },
  {
   "cell_type": "code",
   "execution_count": 46,
   "id": "a32f0577",
   "metadata": {},
   "outputs": [
    {
     "name": "stdout",
     "output_type": "stream",
     "text": [
      "Danh sach sv nam da luu:\n",
      "           MSSV                Ho Ten                Lop\n",
      "0   16050021.0          Lê Thị Giang  QH-2017-E KINH TẾ\n",
      "1   16051730.0         Mai Thị Giang     QH-2017-E KTPT\n",
      "2   16050028.0  Nguyễn Thị Thúy Hiền  QH-2017-E KINH TẾ\n",
      "3   17050022.0       Hoàng Minh Hiếu     QH-2016-E KTPT\n",
      "4          NaN   Phùng Thị Bích Hoàn     QH-2017-E KTPT\n",
      "5   16050038.0           Đỗ Thị Hồng  QH-2017-E KINH TẾ\n",
      "6   17050035.0      Nguyễn Thanh Huệ     QH-2016-E KTPT\n",
      "7          NaN       Trương Tuấn Huy     QH-2016-E KTPT\n",
      "8   16050084.0     Phạm Lê Diệu Linh     QH-2016-E KTPT\n",
      "9   16050091.0     Trương Hoàng Minh     QH-2017-E KTPT\n",
      "10         NaN          Nguyễn Hà My     QH-2017-E KTPT\n",
      "11         NaN       Nguyễn Thu Ngân     QH-2017-E KTPT\n",
      "12  16050175.0       Nông Thanh Thảo     QH-2016-E KTPT\n",
      "13  16051784.0    Hoàng Thị Thu Thủy     QH-2016-E KTPT\n",
      "14  16050140.0        Trần Thị Trang     QH-2016-E KTPT\n",
      "15  16051802.0     Nguyễn Doãn Trung     QH-2016-E KTPT\n",
      "16  16051803.0       Trần Văn Trường     QH-2016-E KTPT\n"
     ]
    }
   ],
   "source": [
    "# Load file .csv da luu\n",
    "\n",
    "df_nam = pd.read_csv(\"SV_nam.csv\", sep=',')\n",
    "\n",
    "print(\"Danh sach sv nam da luu:\\n\", df_nam)"
   ]
  },
  {
   "cell_type": "code",
   "execution_count": null,
   "id": "3c7e7796",
   "metadata": {},
   "outputs": [],
   "source": []
  }
 ],
 "metadata": {
  "kernelspec": {
   "display_name": "Python 3 (ipykernel)",
   "language": "python",
   "name": "python3"
  },
  "language_info": {
   "codemirror_mode": {
    "name": "ipython",
    "version": 3
   },
   "file_extension": ".py",
   "mimetype": "text/x-python",
   "name": "python",
   "nbconvert_exporter": "python",
   "pygments_lexer": "ipython3",
   "version": "3.9.12"
  }
 },
 "nbformat": 4,
 "nbformat_minor": 5
}
