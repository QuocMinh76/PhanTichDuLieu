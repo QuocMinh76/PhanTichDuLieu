{
 "cells": [
  {
   "cell_type": "code",
   "execution_count": 4,
   "id": "e4fa9816-396f-4ec4-933f-b2abbd9c42fb",
   "metadata": {},
   "outputs": [
    {
     "name": "stdin",
     "output_type": "stream",
     "text": [
      "Nhap so thu 1:  2\n",
      "Nhap so thu 2:  2\n",
      "Nhap so thu 3:  2\n",
      "Nhap so thu 4:  2\n",
      "Nhap so thu 5:  2\n"
     ]
    },
    {
     "name": "stdout",
     "output_type": "stream",
     "text": [
      "Tong nam so da nhap la: 10\n"
     ]
    }
   ],
   "source": [
    "#Cau 1\n",
    "\n",
    "sum = 0\n",
    "for x in range(5):\n",
    "    num = int(input(\"Nhap so thu \" + str(x + 1) + \": \"))\n",
    "    sum += num\n",
    "    \n",
    "print(\"Tong nam so da nhap la: \" + str(sum))"
   ]
  },
  {
   "cell_type": "code",
   "execution_count": 5,
   "id": "94f31004-1939-4eb0-8351-806e9e83ecd3",
   "metadata": {},
   "outputs": [
    {
     "name": "stdin",
     "output_type": "stream",
     "text": [
      "Nhap so thu 1:  45\n",
      "Nhap so thu 2:  34\n",
      "Nhap so thu 3:  23\n",
      "Nhap so thu 4:  e\n"
     ]
    },
    {
     "name": "stdout",
     "output_type": "stream",
     "text": [
      "Tong cac so da nhap la: 102\n"
     ]
    }
   ],
   "source": [
    "#Cau 2\n",
    "\n",
    "i = 0\n",
    "sum = 0\n",
    "while True:\n",
    "    char = input(\"Nhap so thu \" + str(i + 1) + \": \")\n",
    "    if (char == \"e\" or char == \"E\"):\n",
    "        break;\n",
    "    sum += int(char)\n",
    "    i += 1\n",
    "    \n",
    "print(\"Tong cac so da nhap la: \" + str(sum))"
   ]
  },
  {
   "cell_type": "code",
   "execution_count": 8,
   "id": "e41f554f-e9e2-41c6-9592-7f050dc8f906",
   "metadata": {},
   "outputs": [
    {
     "name": "stdin",
     "output_type": "stream",
     "text": [
      "Ban muon nhap bao nhieu so:  3\n",
      "Nhap so thu 1:  4\n",
      "Nhap so thu 2:  -8\n",
      "Nhap so thu 3:  3\n"
     ]
    },
    {
     "name": "stdout",
     "output_type": "stream",
     "text": [
      "Cac gia tri da nhap la: [4, -8, 3]\n",
      "Tong cac so chan duong la: 4\n"
     ]
    }
   ],
   "source": [
    "#Cau 3\n",
    "\n",
    "list = []\n",
    "\n",
    "n = int(input(\"Ban muon nhap bao nhieu so: \"))\n",
    "\n",
    "for i in range(0, n):\n",
    "    num = int(input(\"Nhap so thu \" + str(i + 1) + \": \"))\n",
    "    list.append(num)\n",
    "\n",
    "sum = 0\n",
    "\n",
    "for i in list:\n",
    "    if (i % 2 == 0 and i > 0):\n",
    "        sum += i\n",
    "\n",
    "print(\"Cac gia tri da nhap la: \" + str(list))\n",
    "print(\"Tong cac so chan duong la: \" + str(sum))"
   ]
  },
  {
   "cell_type": "code",
   "execution_count": 3,
   "id": "d3442b7c-96a8-4cbd-a33d-0524b5940964",
   "metadata": {},
   "outputs": [
    {
     "name": "stdin",
     "output_type": "stream",
     "text": [
      "Nhap n:  5\n"
     ]
    },
    {
     "name": "stdout",
     "output_type": "stream",
     "text": [
      "Tong cac so tu 1 den 5 la: 15\n"
     ]
    }
   ],
   "source": [
    "#Cau 4\n",
    "\n",
    "n = int(input(\"Nhap n: \"))\n",
    "sum = 0\n",
    "\n",
    "for i in range(1, n + 1):\n",
    "    sum += i\n",
    "\n",
    "print(\"Tong cac so tu 1 den \" + str(n) + \" la: \" + str(sum))"
   ]
  },
  {
   "cell_type": "code",
   "execution_count": 7,
   "id": "383ee9bc-ccc8-4db8-9ad8-6427e31aec33",
   "metadata": {},
   "outputs": [
    {
     "name": "stdin",
     "output_type": "stream",
     "text": [
      "Nhap so thu 1:  4\n",
      "Nhap so thu 2:  7\n",
      "Nhap so thu 3:  23\n"
     ]
    },
    {
     "name": "stdout",
     "output_type": "stream",
     "text": [
      "So lon nhat trong ba so da nhap la: 23\n",
      "So nho nhat trong ba so da nhap la: 4\n"
     ]
    }
   ],
   "source": [
    "#Cau 5\n",
    "\n",
    "def tim_min(a):\n",
    "    min = a[0]\n",
    "    for i in a:\n",
    "        if (i < min):\n",
    "            min = i\n",
    "    return min\n",
    "\n",
    "def tim_max(a):\n",
    "    max = a[0]\n",
    "    for i in a:\n",
    "        if (i > max):\n",
    "            max = i\n",
    "    return max\n",
    "\n",
    "list = []\n",
    "\n",
    "for i in range(0, 3):\n",
    "    num = int(input(\"Nhap so thu \" + str(i + 1) + \": \"))\n",
    "    list.append(num)\n",
    "\n",
    "max = tim_max(list)\n",
    "print(\"So lon nhat trong ba so da nhap la: \" + str(max))\n",
    "\n",
    "min = tim_min(list)\n",
    "print(\"So nho nhat trong ba so da nhap la: \" + str(min))\n"
   ]
  },
  {
   "cell_type": "code",
   "execution_count": 12,
   "id": "3546044c-d927-4208-b39e-6ec9c5175baa",
   "metadata": {},
   "outputs": [
    {
     "name": "stdout",
     "output_type": "stream",
     "text": [
      "Tong cac so chan o vi tri chan trong danh sach la: 44\n"
     ]
    }
   ],
   "source": [
    "#Cau 6\n",
    "\n",
    "ds = [5, 2, 10, 32, 11, 48, 34]\n",
    "sum = 0\n",
    "pos = 0\n",
    "\n",
    "for x in ds:\n",
    "    if (pos % 2 == 0):\n",
    "        if (x % 2 == 0):\n",
    "            sum += x\n",
    "    pos += 1\n",
    "\n",
    "print(\"Tong cac so chan o vi tri chan trong danh sach la: \" + str(sum))"
   ]
  },
  {
   "cell_type": "code",
   "execution_count": 14,
   "id": "727e6f22-8444-4040-ab1f-7cc9810d52eb",
   "metadata": {},
   "outputs": [
    {
     "name": "stdout",
     "output_type": "stream",
     "text": [
      "Danh sach sau khi xoa cac so co gia tri le: [32, 10, 32, 48]\n"
     ]
    }
   ],
   "source": [
    "#Cau 7\n",
    "\n",
    "ds = [15, 32, 10, 32, 29, 48, 15]\n",
    "\n",
    "for x in ds:\n",
    "    if (x % 2 != 0):\n",
    "        ds.remove(x)\n",
    "\n",
    "print(\"Danh sach sau khi xoa cac so co gia tri le: \" + str(ds))"
   ]
  },
  {
   "cell_type": "code",
   "execution_count": 22,
   "id": "4272af08-ed58-4dce-a3a4-b6a65baf4c05",
   "metadata": {},
   "outputs": [
    {
     "name": "stdin",
     "output_type": "stream",
     "text": [
      "Nhap mot chuoi:         Hoang      Quoc      Minh     \n"
     ]
    },
    {
     "name": "stdout",
     "output_type": "stream",
     "text": [
      "Chuoi da nhap: Hoang Quoc Minh\n",
      "So ky tu: 15\n",
      "So chu: 3\n"
     ]
    }
   ],
   "source": [
    "# Cau 8\n",
    "\n",
    "string = input(\"Nhap mot chuoi: \")\n",
    "string = string.strip() #Bo khoang trang dau cuoi\n",
    "string = \" \".join(string.split()) # Bo khoang trang giua cac chu\n",
    "\n",
    "kyTu = len(string)\n",
    "a = string.split(\" \")\n",
    "chu = len(a)\n",
    "\n",
    "print(\"Chuoi da nhap: \" + string)\n",
    "print(\"So ky tu: \" + str(kyTu))\n",
    "print(\"So chu: \" + str(chu))"
   ]
  },
  {
   "cell_type": "code",
   "execution_count": 30,
   "id": "48ed7382-68a5-42b6-a0a3-cd43f0619dc4",
   "metadata": {},
   "outputs": [
    {
     "name": "stdout",
     "output_type": "stream",
     "text": [
      "So lan chu 'Python' xuat hien la: 9\n"
     ]
    }
   ],
   "source": [
    "#Cau 9\n",
    "import re\n",
    "\n",
    "para = \"Python is a high-level, general-purpose programming language. Its design philosophy emphasizes code readability with the use of significant indentation. Python is dynamically typed and garbage-collected. It supports multiple programming paradigms, including structured (particularly procedural), object-oriented and functional programming. It is often described as a batteries included language due to its comprehensive standard library. Guido van Rossum began working on Python in the late 1980s as a successor to the ABC programming language and first released it in 1991 as Python 0.9.0. Python 2.0 was released in 2000. Python 3.0, released in 2008, was a major revision not completely backward-compatible with earlier versions. Python 2.7.18, released in 2020, was the last release of Python 2. Python consistently ranks as one of the most popular programming languages, and has gained widespread use in the machine learning community.\"\n",
    "para = para.lower()\n",
    "words = re.split(r'[,. ]+', para)\n",
    "\n",
    "count = 0\n",
    "for w in words:\n",
    "    if (w == \"python\"):\n",
    "        count += 1\n",
    "\n",
    "print(\"So lan chu 'Python' xuat hien la: \" + str(count))"
   ]
  },
  {
   "cell_type": "code",
   "execution_count": 56,
   "id": "257a2119-fad5-497a-aac5-dc9b37a4fd8b",
   "metadata": {},
   "outputs": [
    {
     "name": "stdin",
     "output_type": "stream",
     "text": [
      "Nhap chuoi muon thay the:  data\n",
      "Nhap chuoi se thay the:  du lieu\n"
     ]
    },
    {
     "name": "stdout",
     "output_type": "stream",
     "text": [
      "Thoi gian thuc thi: 0.0 microgiay\n",
      "In common usage du lieu is a collection of discrete or continuous values that convey information, describing the quantity, quality, fact, statistics, other basic units of meaning, or simply sequences of symbols that may be further interpreted formally. A datum is an individual value in a collection of du lieu. Du lieu is usually organized into structures such as tables that provide additional context and meaning, and which may themselves be used as du lieu in larger structures. Du lieu may be used as variables in a computational process. Du lieu may represent abstract ideas or concrete measurements. Du lieu is commonly used in scientific research, economics, and in virtually every other form of human organizational activity. Examples of du lieu sets include price indices (such as consumer price index), unemployment rates, literacy rates, and census du lieu. In this context, du lieu represents the raw facts and figures from which useful information can be extracted.\n"
     ]
    }
   ],
   "source": [
    "#Cau 10\n",
    "\n",
    "import time\n",
    "\n",
    "para = \"In common usage data is a collection of discrete or continuous values that convey information, describing the quantity, quality, fact, statistics, other basic units of meaning, or simply sequences of symbols that may be further interpreted formally. A datum is an individual value in a collection of data. Data is usually organized into structures such as tables that provide additional context and meaning, and which may themselves be used as data in larger structures. Data may be used as variables in a computational process. Data may represent abstract ideas or concrete measurements. Data is commonly used in scientific research, economics, and in virtually every other form of human organizational activity. Examples of data sets include price indices (such as consumer price index), unemployment rates, literacy rates, and census data. In this context, data represents the raw facts and figures from which useful information can be extracted.\"\n",
    "\n",
    "def check_hoa_dau(org, new): # Kiem tra xem chu co viet hoa chu dau khong\n",
    "    if (org.istitle()):\n",
    "        return new.capitalize()\n",
    "    else:\n",
    "        return new\n",
    "\n",
    "def check_cham_phay(org): # Kiem tra xem chu co ket thuc bang dau cham hay phay khong\n",
    "    if (org.endswith(\".\")):\n",
    "        return \".\"\n",
    "    elif (org.endswith(\",\")):\n",
    "        return \",\"\n",
    "    else:\n",
    "        return \"\"\n",
    "\n",
    "def thay_the_chu(para, old_str, new_str): # Thay the chu\n",
    "    words = para.split()\n",
    "    for i in range(len(words)):\n",
    "        word = words[i].strip(\",.\")       \n",
    "        if (word.lower() == old_str.lower()):\n",
    "            words[i] = check_hoa_dau(word, new_str) + str(check_cham_phay(words[i]))\n",
    "            #words[i] = new_str\n",
    "    return \" \".join(words)\n",
    "\n",
    "old = input(\"Nhap chuoi muon thay the: \")\n",
    "new = input(\"Nhap chuoi se thay the: \")\n",
    "\n",
    "start_time = time.time()\n",
    "new_para = thay_the_chu(para, old, new)\n",
    "end_time = time.time()\n",
    "\n",
    "exec_time = (end_time - start_time) * 1000000\n",
    "print(\"Thoi gian thuc thi:\", str(exec_time), \"micro-giay\")\n",
    "\n",
    "print(new_para)\n",
    "    "
   ]
  },
  {
   "cell_type": "code",
   "execution_count": 4,
   "id": "1f7530dc-67fd-419c-9b36-6201d87688cc",
   "metadata": {},
   "outputs": [
    {
     "name": "stdin",
     "output_type": "stream",
     "text": [
      "Nhap so:  5555\n"
     ]
    },
    {
     "name": "stdout",
     "output_type": "stream",
     "text": [
      "nămnghìn năm trăm năm mươi năm\n"
     ]
    }
   ],
   "source": [
    "#Cau 11\n",
    "\n",
    "def doc_so_hang(so):\n",
    "    hang_don_vi = [\"\", \"một\", \"hai\", \"ba\", \"bốn\", \"năm\", \"sáu\", \"bảy\", \"tám\", \"chín\"]\n",
    "    if (so == 0):\n",
    "        return \"\"\n",
    "    elif (so == 1):\n",
    "        return \"một\"\n",
    "    else:\n",
    "        return hang_don_vi[so]\n",
    "\n",
    "def doc_so(so):\n",
    "    if (so == 0):\n",
    "        return \"Không\"\n",
    "\n",
    "    result = \"\"\n",
    "    for unit in [(1000, \"nghìn\"), (100, \" trăm\"), (10, \"\")]:\n",
    "        num = so // unit[0]\n",
    "        so %= unit[0]\n",
    "        if (num > 1):\n",
    "            result += doc_so_hang(num) + \"\" + unit[1] + \" \"\n",
    "        elif (num == 1):\n",
    "            result += unit[1] + \" \"\n",
    "    if (doc_so_hang(so) == 1):\n",
    "        result += \"mười \" + doc_so_hang(so)\n",
    "    else:\n",
    "        result += \"mươi \" + doc_so_hang(so)\n",
    "    return result.strip()\n",
    "\n",
    "so = int(input(\"Nhap so: \"))\n",
    "print(doc_so(so))"
   ]
  },
  {
   "cell_type": "code",
   "execution_count": 10,
   "id": "3388d184-77dd-4e4f-9c28-1d104a96c443",
   "metadata": {},
   "outputs": [
    {
     "name": "stdin",
     "output_type": "stream",
     "text": [
      "Nhap vao chuoi thu nhat:  Khoa hoc may tinh la mot nganh trong cong nghe thong tin\n",
      "Nhap vao chuoi thu hai:  Tuy toi khong hoc cong nghe thong tin nhung toi biet su dung may tinh\n"
     ]
    },
    {
     "name": "stdout",
     "output_type": "stream",
     "text": [
      "Nhung tu vua co trong chuoi 1 vua co trong chuoi 2 la: ['hoc', 'may', 'tinh', 'cong', 'nghe', 'thong', 'tin']\n"
     ]
    }
   ],
   "source": [
    "#Cau 12\n",
    "# s1 = \"Khoa hoc may tinh la mot nganh trong cong nghe thong tin\"\n",
    "# s2 = \"Tuy toi khong hoc cong nghe thong tin nhung toi biet su dung may tinh\"\n",
    "\n",
    "s1 = input(\"Nhap vao chuoi thu nhat: \")\n",
    "s2 = input(\"Nhap vao chuoi thu hai: \")\n",
    "\n",
    "s1 = s1.lower()\n",
    "words1 = s1.split()\n",
    "s2 = s2.lower()\n",
    "words2 = s2.split()\n",
    "\n",
    "list = []\n",
    "\n",
    "for i in words1:\n",
    "    for j in words2:\n",
    "        if (i == j):\n",
    "            list.append(i)\n",
    "if (len(list) > 0):\n",
    "    print(\"Nhung tu vua co trong chuoi 1 vua co trong chuoi 2 la:\", list)\n"
   ]
  },
  {
   "cell_type": "code",
   "execution_count": null,
   "id": "705a9407-adb1-4939-9987-4f599cd3d792",
   "metadata": {},
   "outputs": [],
   "source": []
  }
 ],
 "metadata": {
  "kernelspec": {
   "display_name": "Python 3 (ipykernel)",
   "language": "python",
   "name": "python3"
  },
  "language_info": {
   "codemirror_mode": {
    "name": "ipython",
    "version": 3
   },
   "file_extension": ".py",
   "mimetype": "text/x-python",
   "name": "python",
   "nbconvert_exporter": "python",
   "pygments_lexer": "ipython3",
   "version": "3.11.7"
  }
 },
 "nbformat": 4,
 "nbformat_minor": 5
}
